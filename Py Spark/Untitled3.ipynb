{
  "nbformat": 4,
  "nbformat_minor": 0,
  "metadata": {
    "colab": {
      "provenance": [],
      "toc_visible": true
    },
    "kernelspec": {
      "name": "python3",
      "display_name": "Python 3"
    },
    "language_info": {
      "name": "python"
    }
  },
  "cells": [
    {
      "cell_type": "code",
      "execution_count": null,
      "metadata": {
        "colab": {
          "base_uri": "https://localhost:8080/"
        },
        "id": "lXu8Pm_SayQF",
        "outputId": "a89db58d-523c-4e69-c884-4747b3314947"
      },
      "outputs": [
        {
          "output_type": "stream",
          "name": "stdout",
          "text": [
            "Collecting pyspark\n",
            "  Downloading pyspark-3.5.1.tar.gz (317.0 MB)\n",
            "\u001b[2K     \u001b[90m━━━━━━━━━━━━━━━━━━━━━━━━━━━━━━━━━━━━━━━━\u001b[0m \u001b[32m317.0/317.0 MB\u001b[0m \u001b[31m1.7 MB/s\u001b[0m eta \u001b[36m0:00:00\u001b[0m\n",
            "\u001b[?25h  Preparing metadata (setup.py) ... \u001b[?25l\u001b[?25hdone\n",
            "Requirement already satisfied: py4j==0.10.9.7 in /usr/local/lib/python3.10/dist-packages (from pyspark) (0.10.9.7)\n",
            "Building wheels for collected packages: pyspark\n",
            "  Building wheel for pyspark (setup.py) ... \u001b[?25l\u001b[?25hdone\n",
            "  Created wheel for pyspark: filename=pyspark-3.5.1-py2.py3-none-any.whl size=317488491 sha256=8fabee50dda41021c63d84b375dd0e47266d3455e9a4bb29f243d4f743d87a77\n",
            "  Stored in directory: /root/.cache/pip/wheels/80/1d/60/2c256ed38dddce2fdd93be545214a63e02fbd8d74fb0b7f3a6\n",
            "Successfully built pyspark\n",
            "Installing collected packages: pyspark\n",
            "Successfully installed pyspark-3.5.1\n"
          ]
        }
      ],
      "source": [
        "pip install pyspark"
      ]
    },
    {
      "cell_type": "code",
      "source": [
        "from pyspark.sql import SparkSession\n",
        "from pyspark.sql.functions import col, sum\n",
        "\n",
        "# Initialize SparkSession\n",
        "spark = SparkSession.builder \\\n",
        "    .appName(\"SalesDataProcessing\") \\\n",
        "    .getOrCreate()\n",
        "\n",
        "# Read CSV file containing sales data\n",
        "sales_df = spark.read.csv(\"sales_data.csv\", header=True, inferSchema=True)\n",
        "\n"
      ],
      "metadata": {
        "id": "PaDN3tlpa7Nw"
      },
      "execution_count": null,
      "outputs": []
    },
    {
      "cell_type": "code",
      "source": [
        "# Data cleaning: Handling missing values\n",
        "cleaned_sales_df = sales_df.na.drop()\n",
        "\n",
        "# Removing duplicates\n",
        "deduplicated_sales_df = cleaned_sales_df.dropDuplicates()\n",
        "\n",
        "\n"
      ],
      "metadata": {
        "id": "Gy9vHrAqb-md"
      },
      "execution_count": null,
      "outputs": []
    },
    {
      "cell_type": "code",
      "source": [
        "# Calculate total sales amount for each product\n",
        "total_sales_df = deduplicated_sales_df.groupBy(\"Product\").agg(sum(\"Quantity Ordered\").alias(\"TotalSalesAmount\"))\n",
        "\n",
        "# Output results to a new CSV file\n",
        "total_sales_df.write.csv(\"TOTAL_SALES_AMOUNT.csv\", header=True)\n",
        "\n",
        "# Stop SparkSession\n",
        "spark.stop()"
      ],
      "metadata": {
        "id": "t4O895c6dnGW"
      },
      "execution_count": null,
      "outputs": []
    },
    {
      "cell_type": "code",
      "source": [],
      "metadata": {
        "id": "3Tu7zdkzealt"
      },
      "execution_count": null,
      "outputs": []
    }
  ]
}